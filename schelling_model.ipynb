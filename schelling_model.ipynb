{
  "nbformat": 4,
  "nbformat_minor": 0,
  "metadata": {
    "colab": {
      "provenance": [],
      "authorship_tag": "ABX9TyPB/6T6L625j6ipQZuJkE1i",
      "include_colab_link": true
    },
    "kernelspec": {
      "name": "python3",
      "display_name": "Python 3"
    },
    "language_info": {
      "name": "python"
    }
  },
  "cells": [
    {
      "cell_type": "markdown",
      "metadata": {
        "id": "view-in-github",
        "colab_type": "text"
      },
      "source": [
        "<a href=\"https://colab.research.google.com/github/awero-manaxiy/schelling_model/blob/main/schelling_model.ipynb\" target=\"_parent\"><img src=\"https://colab.research.google.com/assets/colab-badge.svg\" alt=\"Open In Colab\"/></a>"
      ]
    },
    {
      "cell_type": "code",
      "execution_count": 7,
      "metadata": {
        "id": "oPhkQcv-1cHD"
      },
      "outputs": [],
      "source": [
        "import numpy as np\n",
        "import random\n",
        "from scipy.ndimage import generic_filter\n",
        "import matplotlib.pyplot as plt\n",
        "import matplotlib.colors as col\n",
        "from tqdm import tqdm\n",
        "\n",
        "\n"
      ]
    },
    {
      "cell_type": "code",
      "source": [
        "def create_grid():\n",
        "    reds, blues, holes = 45, 45, 10\n",
        "    numbrs = ([1] * reds + [2] * blues + [0] * holes) * 100\n",
        "    random.shuffle(numbrs)\n",
        "\n",
        "    grid = np.reshape(numbrs, (100, 100))\n",
        "    grid = np.pad(grid, 2, mode='constant', constant_values=10)\n",
        "\n",
        "    return grid\n",
        "\n",
        "\n"
      ],
      "metadata": {
        "id": "I8JcVgmZ1mL1"
      },
      "execution_count": 8,
      "outputs": []
    },
    {
      "cell_type": "code",
      "source": [
        "def get_happiness(cells):\n",
        "    cells = cells.flatten()\n",
        "    if cells[4] in [0, 10]:\n",
        "        return 2\n",
        "    elif sum(x == cells[4] for x in np.delete(cells, 4)) >= 4:\n",
        "        return 0\n",
        "    else:\n",
        "        return 1\n",
        "\n",
        "\n",
        "def get_unhappy_and_holes_indeces(grid):\n",
        "    hole_indeces = np.argwhere(grid == 0)\n",
        "    unhappy_indeces = np.argwhere(generic_filter(grid, get_happiness, size=(3, 3), mode='constant', cval=10) == 1)\n",
        "    return hole_indeces.tolist(), unhappy_indeces.tolist()\n",
        "\n",
        "\n"
      ],
      "metadata": {
        "id": "2pqtmLPy1odF"
      },
      "execution_count": 9,
      "outputs": []
    },
    {
      "cell_type": "code",
      "source": [
        "def get_state(grid, generations):\n",
        "    hole_indeces, unhappy_indeces = get_unhappy_and_holes_indeces(grid)\n",
        "\n",
        "    for i in tqdm(range(generations), ncols=80, ascii=True, desc='Total'):\n",
        "\n",
        "        if len(unhappy_indeces) == 0:\n",
        "            break\n",
        "\n",
        "        index = unhappy_indeces[np.random.randint(len(unhappy_indeces))]\n",
        "        new_index = hole_indeces[np.random.randint(len(hole_indeces))]\n",
        "\n",
        "        grid[new_index[0], new_index[1]], grid[index[0], index[1]] = grid[index[0], index[1]], grid[\n",
        "            new_index[0], new_index[1]]\n",
        "        unhappy_indeces.remove(index)\n",
        "        hole_indeces.remove(new_index)\n",
        "        hole_indeces.append(index)\n",
        "\n",
        "        check_for_unhappy_area = grid[index[0] - 2:index[0] + 3, index[1] - 2:index[1] + 3]\n",
        "        unhappy_append_list = np.argwhere(\n",
        "            (generic_filter(check_for_unhappy_area, get_happiness, size=(3, 3), mode='constant', cval=10) == 1)[1:4, 1:4])\n",
        "        unhappy_append_list = (unhappy_append_list + index - 1).tolist()\n",
        "        for pos in unhappy_append_list:\n",
        "            if pos not in unhappy_indeces:\n",
        "                unhappy_indeces.append(pos)\n",
        "\n",
        "        check_for_happy_area = grid[new_index[0] - 2:new_index[0] + 3, new_index[1] - 2:new_index[1] + 3]\n",
        "        happy_append_list = np.argwhere(\n",
        "            (generic_filter(check_for_happy_area, get_happiness, size=(3, 3), mode='constant', cval=10) == 0)[1:4, 1:4])\n",
        "        happy_append_list = (happy_append_list + new_index - 1).tolist()\n",
        "        for pos in happy_append_list:\n",
        "            if pos in unhappy_indeces:\n",
        "                unhappy_indeces.remove(pos)\n",
        "\n",
        "    return grid\n",
        "\n",
        "\n"
      ],
      "metadata": {
        "id": "GttpPRCM1sRU"
      },
      "execution_count": 10,
      "outputs": []
    },
    {
      "cell_type": "code",
      "source": [
        "def displaying_state(grid):\n",
        "    grid = grid[2:102, 2:102]\n",
        "    cmap = col.ListedColormap(['white', 'blue', 'red'])\n",
        "    plt.figure(figsize=(12, 12))\n",
        "    plt.pcolormesh(grid, edgecolor='black', cmap=cmap)\n",
        "    plt.show()\n",
        "\n"
      ],
      "metadata": {
        "id": "tElopfhm1uWE"
      },
      "execution_count": 11,
      "outputs": []
    },
    {
      "cell_type": "code",
      "source": [
        "if __name__ == \"__main__\":\n",
        "    grid = create_grid()\n",
        "    new_grid = get_state(grid, 10000)\n",
        "    displaying_state(grid)"
      ],
      "metadata": {
        "colab": {
          "base_uri": "https://localhost:8080/",
          "height": 721
        },
        "id": "P9B84JcO1vp_",
        "outputId": "3f868c59-1350-4c68-f3db-5f3ec1ffc7f4"
      },
      "execution_count": 12,
      "outputs": [
        {
          "output_type": "stream",
          "name": "stderr",
          "text": [
            "Total: 100%|#############################| 10000/10000 [00:27<00:00, 365.63it/s]\n"
          ]
        },
        {
          "output_type": "display_data",
          "data": {
            "text/plain": [
              "<Figure size 864x864 with 1 Axes>"
            ],
            "image/png": "[encoded data removed]"
          },
          "metadata": {
            "needs_background": "light"
          }
        }
      ]
    }
  ]
}